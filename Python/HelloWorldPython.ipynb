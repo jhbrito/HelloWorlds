{
 "cells": [
  {
   "cell_type": "markdown",
   "metadata": {
    "id": "640rcV-0zQq0"
   },
   "source": [
    "# Hello World Python!\n",
    "Documentação Python: https://docs.python.org"
   ]
  },
  {
   "cell_type": "code",
   "execution_count": 1,
   "metadata": {
    "id": "kLTfsSjLyqEh"
   },
   "outputs": [
    {
     "name": "stdout",
     "output_type": "stream",
     "text": [
      "Esta célula é de código\n"
     ]
    }
   ],
   "source": [
    "print(\"Esta célula é de código\")\n",
    "# Esta linha está comentada"
   ]
  },
  {
   "cell_type": "markdown",
   "metadata": {
    "id": "8TAO1crczA7O"
   },
   "source": [
    "Esta célula é de texto\n"
   ]
  },
  {
   "cell_type": "markdown",
   "metadata": {
    "id": "gWYjZweT35yB"
   },
   "source": [
    "## Variáveis\n",
    "Tipos numéricos — int, float, complex: https://docs.python.org/3/library/stdtypes.html"
   ]
  },
  {
   "cell_type": "code",
   "execution_count": 2,
   "metadata": {
    "id": "XoLwTUMj3lUk"
   },
   "outputs": [
    {
     "name": "stdout",
     "output_type": "stream",
     "text": [
      "c= 3\n",
      "<class 'int'>\n",
      "e= 1.1\n",
      "<class 'float'>\n"
     ]
    }
   ],
   "source": [
    "a=1\n",
    "b=2\n",
    "c=a+b\n",
    "print(\"c=\",c)\n",
    "print(type(c))\n",
    "\n",
    "d=0.1\n",
    "e=a+d;\n",
    "print(\"e=\",e)\n",
    "print(type(e))\n"
   ]
  },
  {
   "cell_type": "markdown",
   "metadata": {
    "id": "_14x4MjF4BRh"
   },
   "source": [
    "## If"
   ]
  },
  {
   "cell_type": "code",
   "execution_count": null,
   "metadata": {
    "id": "rm5Hf83s4EjS"
   },
   "outputs": [],
   "source": [
    "c=4\n",
    "\n",
    "if (c==3):\n",
    "    print(\"entrei no if\")\n",
    "elif (c==4):\n",
    "    print(\"entrei no elif\")\n",
    "else:\n",
    "    print(\"entrei no else\")\n"
   ]
  },
  {
   "cell_type": "markdown",
   "metadata": {
    "id": "d7boUNjo4NuG"
   },
   "source": [
    "## For"
   ]
  },
  {
   "cell_type": "code",
   "execution_count": null,
   "metadata": {
    "id": "oP28TJ3x4SC9"
   },
   "outputs": [],
   "source": [
    "y=1\n",
    "for x in range(10):\n",
    "    print(\"x =\",x)\n",
    "    y = y + x\n",
    "print(\"y =\", y)\n"
   ]
  },
  {
   "cell_type": "markdown",
   "metadata": {
    "id": "kIXqgaK94X-x"
   },
   "source": [
    "## While"
   ]
  },
  {
   "cell_type": "code",
   "execution_count": null,
   "metadata": {
    "id": "Ddb97YBT4avd"
   },
   "outputs": [],
   "source": [
    "x=0\n",
    "y=0\n",
    "while (x<10):\n",
    "    print(\"x =\", x)\n",
    "    y= y + x\n",
    "    x = x + 1\n",
    "print(\"y =\", y)\n"
   ]
  },
  {
   "cell_type": "markdown",
   "metadata": {
    "id": "zQMkJ9pJ4ghA"
   },
   "source": [
    "## Precisão de floats"
   ]
  },
  {
   "cell_type": "code",
   "execution_count": null,
   "metadata": {
    "id": "31K7YtWd4jzY"
   },
   "outputs": [],
   "source": [
    "a=0.1\n",
    "b=0.2\n",
    "c=a+b\n",
    "print(\"c\", c)\n",
    "print(type(c))"
   ]
  },
  {
   "cell_type": "markdown",
   "metadata": {
    "id": "VZ0XMj0A4wET"
   },
   "source": [
    "## Strings"
   ]
  },
  {
   "cell_type": "code",
   "execution_count": null,
   "metadata": {
    "id": "8QOfcuTZ4x90"
   },
   "outputs": [],
   "source": [
    "m=\"olá\"\n",
    "print(m)\n",
    "print(m[0:1])\n",
    "o = \"adeus\"\n",
    "p= m + \" \" + o\n",
    "print(\"p:\",p)\n"
   ]
  },
  {
   "cell_type": "markdown",
   "metadata": {
    "id": "jhDZetTg44Lt"
   },
   "source": [
    "## Funções"
   ]
  },
  {
   "cell_type": "code",
   "execution_count": null,
   "metadata": {
    "id": "c0OaOAv446U9"
   },
   "outputs": [],
   "source": [
    "def f1(x1,x2):\n",
    "    yf1=x1*x2\n",
    "    return yf1\n",
    "\n",
    "q=f1(10,3)\n",
    "print(\"q:\",q)\n"
   ]
  },
  {
   "cell_type": "markdown",
   "metadata": {
    "id": "BxsUZBBP5BJC"
   },
   "source": [
    "## Tuplos"
   ]
  },
  {
   "cell_type": "code",
   "execution_count": null,
   "metadata": {
    "id": "HXAdW-3Q5DQh"
   },
   "outputs": [],
   "source": [
    "a=(1,3,5,7,9)\n",
    "print(\"a: \", a)\n",
    "print(\"a[3]\", a[3])\n",
    "print(\"a[2:4]\", a[2:4])\n",
    "print(\"a[2:]\", a[2:])\n",
    "# a[1]=10\n"
   ]
  },
  {
   "cell_type": "code",
   "execution_count": null,
   "metadata": {
    "id": "S9CjooPR5Fvt"
   },
   "outputs": [],
   "source": [
    "a[1]=10 #esta linha dá erro porque os tuplos são imutáveis"
   ]
  },
  {
   "cell_type": "markdown",
   "metadata": {
    "id": "w0WbyIrH5vxB"
   },
   "source": [
    "## Listas"
   ]
  },
  {
   "cell_type": "code",
   "execution_count": null,
   "metadata": {
    "id": "cZBjRpq_5xYf"
   },
   "outputs": [],
   "source": [
    "b=[2,4,6,8,10]\n",
    "print(\"b\")\n",
    "print(b)\n",
    "print(b[3])\n",
    "print(b[2:4])\n",
    "print(b[2:])\n",
    "b[1]=10\n",
    "\n",
    "c=list(a)\n",
    "print(\"c\")\n",
    "print(c)\n",
    "print(c[3])\n",
    "print(c[2:4])\n",
    "print(c[2:])\n",
    "c[1]=12\n"
   ]
  },
  {
   "cell_type": "markdown",
   "metadata": {
    "id": "TNuVAI525zJl"
   },
   "source": [
    "## Dicionários"
   ]
  },
  {
   "cell_type": "code",
   "execution_count": null,
   "metadata": {
    "id": "9v2hnEPf52_9"
   },
   "outputs": [],
   "source": [
    "words={}\n",
    "words[\"BAIT\"] = \"Brito Artificial Intelligence Team\"\n",
    "words[\"2Ai\"] = \"Applied Artificial Intelligence Laboratory\"\n",
    "words[\"LEEC\"] = \"Licenciatura em Engenharia Electrotécnica e de Computadores\"\n",
    "words[\"EST\"] = \"Escola Superior de Tecnologia\"\n",
    "words[\"IPCA\"] = \"Instituto Politécnico do Cávado e do Ave\"\n",
    "\n",
    "print(\"BAIT -\", words[\"BAIT\"])\n"
   ]
  },
  {
   "cell_type": "markdown",
   "metadata": {},
   "source": [
    "## Define Class"
   ]
  },
  {
   "cell_type": "code",
   "execution_count": null,
   "metadata": {},
   "outputs": [],
   "source": [
    "class MyClass:\n",
    "    \"\"\"A simple example class\"\"\"\n",
    "    i = 12345\n",
    "    \n",
    "    \"\"\"This is the constructor\"\"\"\n",
    "    def __init__(self):\n",
    "        self.data = [1]\n",
    "\n",
    "    def f(self):\n",
    "        return 'hello world'"
   ]
  },
  {
   "cell_type": "markdown",
   "metadata": {},
   "source": [
    "## Instance of a class"
   ]
  },
  {
   "cell_type": "code",
   "execution_count": null,
   "metadata": {},
   "outputs": [],
   "source": [
    "x = MyClass()"
   ]
  },
  {
   "cell_type": "markdown",
   "metadata": {},
   "source": [
    "## Check the data"
   ]
  },
  {
   "cell_type": "code",
   "execution_count": null,
   "metadata": {},
   "outputs": [],
   "source": [
    "print(x.data)"
   ]
  },
  {
   "cell_type": "markdown",
   "metadata": {},
   "source": [
    "## Call a method"
   ]
  },
  {
   "cell_type": "code",
   "execution_count": null,
   "metadata": {},
   "outputs": [],
   "source": []
  },
  {
   "cell_type": "markdown",
   "metadata": {
    "id": "vMVsnP9Q6mPd"
   },
   "source": [
    "# Fim"
   ]
  }
 ],
 "metadata": {
  "colab": {
   "name": "HelloWorldPython.ipynb",
   "provenance": []
  },
  "kernelspec": {
   "display_name": "Python 3 (ipykernel)",
   "language": "python",
   "name": "python3"
  },
  "language_info": {
   "codemirror_mode": {
    "name": "ipython",
    "version": 3
   },
   "file_extension": ".py",
   "mimetype": "text/x-python",
   "name": "python",
   "nbconvert_exporter": "python",
   "pygments_lexer": "ipython3",
   "version": "3.9.10"
  }
 },
 "nbformat": 4,
 "nbformat_minor": 1
}
