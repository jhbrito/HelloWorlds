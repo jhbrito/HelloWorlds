{
 "cells": [
  {
   "cell_type": "markdown",
   "metadata": {
    "id": "640rcV-0zQq0"
   },
   "source": [
    "# Hello World Numpy!\n",
    "https://numpy.org/doc/stable/user/quickstart.html"
   ]
  },
  {
   "cell_type": "code",
   "execution_count": null,
   "metadata": {},
   "outputs": [],
   "source": [
    "import numpy as np"
   ]
  },
  {
   "cell_type": "markdown",
   "metadata": {},
   "source": [
    "## Simple Vector"
   ]
  },
  {
   "cell_type": "code",
   "execution_count": null,
   "metadata": {
    "id": "kLTfsSjLyqEh"
   },
   "outputs": [],
   "source": [
    "a = np.array([1, 2, 3])\n",
    "print(\"a\", a)\n",
    "print(\"type\", type(a))\n",
    "print(\"a[0]\", a[0])"
   ]
  },
  {
   "cell_type": "markdown",
   "metadata": {},
   "source": [
    "## Simple Matrix and indexing"
   ]
  },
  {
   "cell_type": "code",
   "execution_count": null,
   "metadata": {},
   "outputs": [],
   "source": [
    "a=np.array([[1, 2, 3] ,[4, 5, 6]])\n",
    "print(\"a\", a)\n",
    "print(\"a[0,1]\", a[0,1])\n",
    "print(\"a[0][1]\", a[0][1])\n"
   ]
  },
  {
   "cell_type": "markdown",
   "metadata": {
    "id": "gWYjZweT35yB"
   },
   "source": [
    "## Matrix properties"
   ]
  },
  {
   "cell_type": "code",
   "execution_count": null,
   "metadata": {
    "id": "XoLwTUMj3lUk"
   },
   "outputs": [],
   "source": [
    "a = np.arange(15).reshape(3, 5)\n",
    "print(\"a.shape\", a.shape)\n",
    "print(\"a.ndim\", a.ndim)\n",
    "print(\"a.dtype\", a.dtype)\n",
    "print(\"a.dtype.name\", a.dtype.name)\n",
    "print(\"a.itemsize\", a.itemsize)\n",
    "print(\"a.size\", a.size)\n",
    "print(\"a\", a)"
   ]
  },
  {
   "cell_type": "markdown",
   "metadata": {
    "id": "_14x4MjF4BRh"
   },
   "source": [
    "## Special matrices"
   ]
  },
  {
   "cell_type": "code",
   "execution_count": null,
   "metadata": {
    "id": "rm5Hf83s4EjS"
   },
   "outputs": [],
   "source": [
    "a=np.empty((3, 4))\n",
    "print(\"a\", a)\n",
    "b=np.zeros((3, 4))\n",
    "print(\"b\", b)\n",
    "c=np.ones((3, 4))\n",
    "print(\"c\", c)\n",
    "d=np.eye(3)\n",
    "print(\"d\", d)\n",
    "e=np.random.randn(12).reshape((3,4))\n",
    "print(\"e\", e)"
   ]
  },
  {
   "cell_type": "markdown",
   "metadata": {
    "id": "d7boUNjo4NuG"
   },
   "source": [
    "## Simple Statistics"
   ]
  },
  {
   "cell_type": "code",
   "execution_count": null,
   "metadata": {
    "id": "oP28TJ3x4SC9"
   },
   "outputs": [],
   "source": [
    "print(\"Max\", np.max(a))\n",
    "print(\"Min\", np.min(b))\n",
    "print(\"Mean\", np.mean(c))\n",
    "print(\"Std Dev\", np.std(d))\n"
   ]
  }
 ],
 "metadata": {
  "colab": {
   "name": "HelloWorldNumpy.ipynb",
   "provenance": []
  },
  "kernelspec": {
   "display_name": "Python 3",
   "language": "python",
   "name": "python3"
  },
  "language_info": {
   "codemirror_mode": {
    "name": "ipython",
    "version": 3
   },
   "file_extension": ".py",
   "mimetype": "text/x-python",
   "name": "python",
   "nbconvert_exporter": "python",
   "pygments_lexer": "ipython3",
   "version": "3.6.8"
  }
 },
 "nbformat": 4,
 "nbformat_minor": 1
}
