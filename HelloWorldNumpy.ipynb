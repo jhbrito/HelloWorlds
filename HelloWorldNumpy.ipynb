{
 "cells": [
  {
   "cell_type": "markdown",
   "metadata": {
    "id": "640rcV-0zQq0"
   },
   "source": [
    "# Hello World Numpy!\n",
    "https://numpy.org/doc/stable/user/quickstart.html"
   ]
  },
  {
   "cell_type": "code",
   "execution_count": 1,
   "metadata": {},
   "outputs": [],
   "source": [
    "import numpy as np"
   ]
  },
  {
   "cell_type": "markdown",
   "metadata": {},
   "source": [
    "## Simple Vector"
   ]
  },
  {
   "cell_type": "code",
   "execution_count": 2,
   "metadata": {
    "id": "kLTfsSjLyqEh"
   },
   "outputs": [
    {
     "name": "stdout",
     "output_type": "stream",
     "text": [
      "a [1 2 3]\n",
      "type <class 'numpy.ndarray'>\n",
      "a[0] 1\n"
     ]
    }
   ],
   "source": [
    "a = np.array([1, 2, 3])\n",
    "print(\"a\", a)\n",
    "print(\"type\", type(a))\n",
    "print(\"a[0]\", a[0])"
   ]
  },
  {
   "cell_type": "markdown",
   "metadata": {},
   "source": [
    "## Simple Matrix and indexing"
   ]
  },
  {
   "cell_type": "code",
   "execution_count": 3,
   "metadata": {},
   "outputs": [
    {
     "name": "stdout",
     "output_type": "stream",
     "text": [
      "a [[1 2 3]\n",
      " [4 5 6]]\n",
      "a[0,1] 2\n",
      "a[0][1] 2\n"
     ]
    }
   ],
   "source": [
    "a=np.array([[1, 2, 3] ,[4, 5, 6]])\n",
    "print(\"a\", a)\n",
    "print(\"a[0,1]\", a[0,1])\n",
    "print(\"a[0][1]\", a[0][1])\n"
   ]
  },
  {
   "cell_type": "markdown",
   "metadata": {
    "id": "gWYjZweT35yB"
   },
   "source": [
    "## Matrix properties"
   ]
  },
  {
   "cell_type": "code",
   "execution_count": 4,
   "metadata": {
    "id": "XoLwTUMj3lUk"
   },
   "outputs": [
    {
     "name": "stdout",
     "output_type": "stream",
     "text": [
      "a.shape (3, 5)\n",
      "a.ndim 2\n",
      "a.dtype int32\n",
      "a.dtype.name int32\n",
      "a.itemsize 4\n",
      "a.size 15\n",
      "a [[ 0  1  2  3  4]\n",
      " [ 5  6  7  8  9]\n",
      " [10 11 12 13 14]]\n"
     ]
    }
   ],
   "source": [
    "a = np.arange(15).reshape(3, 5)\n",
    "print(\"a.shape\", a.shape)\n",
    "print(\"a.ndim\", a.ndim)\n",
    "print(\"a.dtype\", a.dtype)\n",
    "print(\"a.dtype.name\", a.dtype.name)\n",
    "print(\"a.itemsize\", a.itemsize)\n",
    "print(\"a.size\", a.size)\n",
    "print(\"a\", a)"
   ]
  },
  {
   "cell_type": "markdown",
   "metadata": {
    "id": "_14x4MjF4BRh"
   },
   "source": [
    "## Special matrices"
   ]
  },
  {
   "cell_type": "code",
   "execution_count": 5,
   "metadata": {
    "id": "rm5Hf83s4EjS"
   },
   "outputs": [
    {
     "name": "stdout",
     "output_type": "stream",
     "text": [
      "a [[1.38043519e-311 2.81617418e-322 0.00000000e+000 0.00000000e+000]\n",
      " [0.00000000e+000 1.31370903e-076 4.97285880e-091 1.27964679e+161]\n",
      " [1.26934732e-076 2.67837657e-032 6.48224659e+170 4.93432906e+257]]\n",
      "b [[0. 0. 0. 0.]\n",
      " [0. 0. 0. 0.]\n",
      " [0. 0. 0. 0.]]\n",
      "c [[1. 1. 1. 1.]\n",
      " [1. 1. 1. 1.]\n",
      " [1. 1. 1. 1.]]\n",
      "d [[1. 0. 0.]\n",
      " [0. 1. 0.]\n",
      " [0. 0. 1.]]\n",
      "e [[-0.54279983 -1.28645248 -0.26178073 -0.34603694]\n",
      " [ 0.67944978 -0.01075111  0.20997294 -0.35651164]\n",
      " [-0.7894087   0.61942488 -0.29142598 -1.25555245]]\n"
     ]
    }
   ],
   "source": [
    "a=np.empty((3, 4))\n",
    "print(\"a\", a)\n",
    "b=np.zeros((3, 4))\n",
    "print(\"b\", b)\n",
    "c=np.ones((3, 4))\n",
    "print(\"c\", c)\n",
    "d=np.eye(3)\n",
    "print(\"d\", d)\n",
    "e=np.random.randn(12).reshape((3,4))\n",
    "print(\"e\", e)"
   ]
  },
  {
   "cell_type": "markdown",
   "metadata": {
    "id": "d7boUNjo4NuG"
   },
   "source": [
    "## Simple Statistics"
   ]
  },
  {
   "cell_type": "code",
   "execution_count": 6,
   "metadata": {
    "id": "oP28TJ3x4SC9"
   },
   "outputs": [
    {
     "name": "stdout",
     "output_type": "stream",
     "text": [
      "Max 4.934329057044486e+257\n",
      "Min 0.0\n",
      "Mean 1.0\n",
      "Std Dev 0.4714045207910317\n"
     ]
    }
   ],
   "source": [
    "print(\"Max\", np.max(a))\n",
    "print(\"Min\", np.min(b))\n",
    "print(\"Mean\", np.mean(c))\n",
    "print(\"Std Dev\", np.std(d))\n"
   ]
  },
  {
   "cell_type": "markdown",
   "metadata": {},
   "source": [
    "Happy Numpy coding"
   ]
  },
  {
   "cell_type": "code",
   "execution_count": null,
   "metadata": {},
   "outputs": [],
   "source": []
  }
 ],
 "metadata": {
  "colab": {
   "name": "HelloWorldNumpy.ipynb",
   "provenance": []
  },
  "kernelspec": {
   "display_name": "Python 3",
   "language": "python",
   "name": "python3"
  },
  "language_info": {
   "codemirror_mode": {
    "name": "ipython",
    "version": 3
   },
   "file_extension": ".py",
   "mimetype": "text/x-python",
   "name": "python",
   "nbconvert_exporter": "python",
   "pygments_lexer": "ipython3",
   "version": "3.6.8"
  }
 },
 "nbformat": 4,
 "nbformat_minor": 1
}
