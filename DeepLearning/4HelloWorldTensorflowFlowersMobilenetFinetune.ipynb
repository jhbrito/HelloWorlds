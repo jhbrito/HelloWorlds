{
 "cells": [
  {
   "cell_type": "markdown",
   "metadata": {
    "id": "640rcV-0zQq0"
   },
   "source": [
    "# Hello World Mobilenet Finetune"
   ]
  },
  {
   "cell_type": "markdown",
   "metadata": {
    "id": "gWYjZweT35yB"
   },
   "source": [
    "## Imports"
   ]
  },
  {
   "cell_type": "code",
   "execution_count": null,
   "metadata": {
    "id": "XoLwTUMj3lUk"
   },
   "outputs": [],
   "source": [
    "import os\n",
    "import numpy as np\n",
    "import glob\n",
    "import shutil\n",
    "import matplotlib.pyplot as plt\n",
    "import datetime\n",
    "import tensorflow as tf\n",
    "from tensorflow.keras.preprocessing.image import ImageDataGenerator\n"
   ]
  },
  {
   "cell_type": "markdown",
   "metadata": {
    "id": "_14x4MjF4BRh"
   },
   "source": [
    "## Download Dataset"
   ]
  },
  {
   "cell_type": "code",
   "execution_count": null,
   "metadata": {},
   "outputs": [],
   "source": [
    "_URL = \"https://storage.googleapis.com/download.tensorflow.org/example_images/flower_photos.tgz\"\n",
    "zip_file = tf.keras.utils.get_file(origin=_URL, fname=\"flower_photos.tgz\", extract=True)\n",
    "base_dir = os.path.join(os.path.dirname(zip_file), 'flower_photos')\n",
    "\n",
    "classes = ['roses', 'daisy', 'dandelion', 'sunflowers', 'tulips']\n"
   ]
  },
  {
   "cell_type": "markdown",
   "metadata": {},
   "source": [
    "## Training parameters"
   ]
  },
  {
   "cell_type": "code",
   "execution_count": null,
   "metadata": {},
   "outputs": [],
   "source": [
    "dataset_split_percentage = 0.8 # percentage of images for training\n",
    "epochs = 10 #80\n",
    "batch_size = 64 #100\n",
    "IMG_SHAPE = 224\n"
   ]
  },
  {
   "cell_type": "markdown",
   "metadata": {},
   "source": [
    "## Prepare Data"
   ]
  },
  {
   "cell_type": "code",
   "execution_count": null,
   "metadata": {
    "id": "rm5Hf83s4EjS"
   },
   "outputs": [],
   "source": [
    "for cl in classes:\n",
    "    img_path = os.path.join(base_dir, cl)\n",
    "    images = glob.glob(img_path + '/*.jpg')\n",
    "    print(\"{}: {} Images\".format(cl, len(images)))\n",
    "    num_train = int(round(len(images) * dataset_split_percentage))\n",
    "    train, val = images[:num_train], images[num_train:]\n",
    "\n",
    "    for t in train:\n",
    "        if not os.path.exists(os.path.join(base_dir, 'train', cl)):\n",
    "            os.makedirs(os.path.join(base_dir, 'train', cl))\n",
    "        bn=os.path.basename(t)\n",
    "        if not os.path.exists(os.path.join(base_dir, 'train', cl, bn)):\n",
    "            shutil.move(t, os.path.join(base_dir, 'train', cl))\n",
    "\n",
    "    for v in val:\n",
    "        if not os.path.exists(os.path.join(base_dir, 'val', cl)):\n",
    "            os.makedirs(os.path.join(base_dir, 'val', cl))\n",
    "        bn = os.path.basename(v)\n",
    "        if not os.path.exists(os.path.join(base_dir, 'val', cl, bn)):\n",
    "            shutil.move(v, os.path.join(base_dir, 'val', cl))\n",
    "\n",
    "print(\"training images:\", round(len(images)*dataset_split_percentage))\n",
    "train_dir = os.path.join(base_dir, 'train')\n",
    "val_dir = os.path.join(base_dir, 'val')\n",
    "\n",
    "image_gen_train = ImageDataGenerator(\n",
    "    rescale=1./255,\n",
    "    rotation_range=45,\n",
    "    width_shift_range=.15,\n",
    "    height_shift_range=.15,\n",
    "    horizontal_flip=True,\n",
    "    zoom_range=0.5)\n",
    "train_data_gen = image_gen_train.flow_from_directory(\n",
    "    batch_size=batch_size,\n",
    "    directory=train_dir,\n",
    "    shuffle=True,\n",
    "    target_size=(IMG_SHAPE,IMG_SHAPE),\n",
    "    class_mode='sparse')\n",
    "\n",
    "image_gen_val = ImageDataGenerator(rescale=1./255)\n",
    "val_data_gen = image_gen_val.flow_from_directory(\n",
    "    batch_size=batch_size,\n",
    "    directory=val_dir,\n",
    "    target_size=(IMG_SHAPE, IMG_SHAPE),\n",
    "    class_mode='sparse')\n"
   ]
  },
  {
   "cell_type": "markdown",
   "metadata": {
    "id": "zQMkJ9pJ4ghA"
   },
   "source": [
    "## Download the model "
   ]
  },
  {
   "cell_type": "code",
   "execution_count": null,
   "metadata": {
    "id": "31K7YtWd4jzY"
   },
   "outputs": [],
   "source": [
    "modelMobilenet = tf.keras.applications.mobilenet_v2.MobileNetV2(weights='imagenet')\n",
    "# model = tf.keras.applications.inception_v3.InceptionV3(weights=\"imagenet\")\n",
    "modelMobilenet.summary()\n",
    "# from tensorflow.keras.utils import plot_model\n",
    "# plot_model(modelMobilenet, to_file='Mobilenet.png')"
   ]
  },
  {
   "cell_type": "markdown",
   "metadata": {},
   "source": [
    "## Refactor the model"
   ]
  },
  {
   "cell_type": "code",
   "execution_count": null,
   "metadata": {},
   "outputs": [],
   "source": [
    "modelMobilenet.trainable = False\n",
    "base_output = modelMobilenet.layers[-2].output # layer number obtained from model summary above\n",
    "new_output = tf.keras.layers.Dense(5, activation=\"softmax\")(base_output)\n",
    "modelMobilenetFlowers = tf.keras.models.Model(\n",
    "    inputs=modelMobilenet.inputs, outputs=new_output)\n",
    "modelMobilenetFlowers.summary()\n",
    "\n",
    "modelMobilenetFlowers.compile(\n",
    "    optimizer='adam',\n",
    "    loss='sparse_categorical_crossentropy',\n",
    "    metrics=['accuracy'])"
   ]
  },
  {
   "cell_type": "markdown",
   "metadata": {},
   "source": [
    "## Train the model"
   ]
  },
  {
   "cell_type": "code",
   "execution_count": null,
   "metadata": {},
   "outputs": [],
   "source": [
    "log_dir = os.path.join(\"logs\", \"fit\", datetime.datetime.now().strftime(\"%Y%m%d-%H%M%S\"))\n",
    "tensorboard_callback = tf.keras.callbacks.TensorBoard(log_dir=log_dir)\n",
    "\n",
    "history = modelMobilenetFlowers.fit(\n",
    "    train_data_gen,\n",
    "    steps_per_epoch=int(np.ceil(train_data_gen.n / float(batch_size))),\n",
    "    epochs=epochs,\n",
    "    validation_data=val_data_gen,\n",
    "    validation_steps=int(np.ceil(val_data_gen.n / float(batch_size))),\n",
    "    callbacks=[tensorboard_callback]\n",
    ")\n",
    "\n",
    "acc = history.history['accuracy']\n",
    "val_acc = history.history['val_accuracy']\n",
    "loss = history.history['loss']\n",
    "val_loss = history.history['val_loss']"
   ]
  },
  {
   "cell_type": "markdown",
   "metadata": {},
   "source": [
    "## Show Training Results"
   ]
  },
  {
   "cell_type": "code",
   "execution_count": null,
   "metadata": {},
   "outputs": [],
   "source": [
    "epochs_range = range(epochs)\n",
    "\n",
    "plt.figure(figsize=(8, 8))\n",
    "plt.subplot(1, 2, 1)\n",
    "plt.plot(epochs_range, acc, label='Training Accuracy')\n",
    "plt.plot(epochs_range, val_acc, label='Validation Accuracy')\n",
    "plt.legend(loc='lower right')\n",
    "plt.title('Training and Validation Accuracy')\n",
    "\n",
    "plt.subplot(1, 2, 2)\n",
    "plt.plot(epochs_range, loss, label='Training Loss')\n",
    "plt.plot(epochs_range, val_loss, label='Validation Loss')\n",
    "plt.legend(loc='upper right')\n",
    "plt.title('Training and Validation Loss')\n",
    "plt.show()"
   ]
  },
  {
   "cell_type": "markdown",
   "metadata": {
    "id": "vMVsnP9Q6mPd"
   },
   "source": [
    "# Fim"
   ]
  }
 ],
 "metadata": {
  "colab": {
   "name": "HelloWorldPython.ipynb",
   "provenance": []
  },
  "kernelspec": {
   "display_name": "Python 3 (ipykernel)",
   "language": "python",
   "name": "python3"
  },
  "language_info": {
   "codemirror_mode": {
    "name": "ipython",
    "version": 3
   },
   "file_extension": ".py",
   "mimetype": "text/x-python",
   "name": "python",
   "nbconvert_exporter": "python",
   "pygments_lexer": "ipython3",
   "version": "3.9.16"
  }
 },
 "nbformat": 4,
 "nbformat_minor": 1
}
