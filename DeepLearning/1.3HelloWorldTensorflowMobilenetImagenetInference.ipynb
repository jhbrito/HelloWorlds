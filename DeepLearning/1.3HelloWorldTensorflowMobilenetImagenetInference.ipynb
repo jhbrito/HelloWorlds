{
 "cells": [
  {
   "cell_type": "markdown",
   "metadata": {
    "id": "640rcV-0zQq0"
   },
   "source": [
    "# Hello World Mobilenet Imagenet"
   ]
  },
  {
   "cell_type": "markdown",
   "metadata": {
    "id": "gWYjZweT35yB"
   },
   "source": [
    "## Imports"
   ]
  },
  {
   "cell_type": "code",
   "execution_count": null,
   "metadata": {
    "id": "XoLwTUMj3lUk"
   },
   "outputs": [],
   "source": [
    "import tensorflow as tf\n",
    "import tensorflow.keras as tf_keras\n",
    "import numpy as np\n",
    "import PIL.Image as PImage\n",
    "import matplotlib.pyplot as plt\n",
    "\n",
    "IMAGE_RES = 224"
   ]
  },
  {
   "cell_type": "markdown",
   "metadata": {
    "id": "_14x4MjF4BRh"
   },
   "source": [
    "## Load Mobilenet model"
   ]
  },
  {
   "cell_type": "code",
   "execution_count": null,
   "metadata": {
    "id": "rm5Hf83s4EjS"
   },
   "outputs": [],
   "source": [
    "model = tf_keras.applications.mobilenet_v2.MobileNetV2(weights='imagenet')\n",
    "model.summary()"
   ]
  },
  {
   "cell_type": "markdown",
   "metadata": {
    "id": "zQMkJ9pJ4ghA"
   },
   "source": [
    "## Download and load images"
   ]
  },
  {
   "cell_type": "code",
   "execution_count": null,
   "metadata": {
    "id": "31K7YtWd4jzY"
   },
   "outputs": [],
   "source": [
    "labels_path = tf_keras.utils.get_file('ImageNetLabels.txt','https://storage.googleapis.com/download.tensorflow.org/data/ImageNetLabels.txt')\n",
    "imagenet_labels = np.array(open(labels_path).read().splitlines())\n",
    "\n",
    "image_path  = tf_keras.utils.get_file('grace_hopper.jpg',  'https://storage.googleapis.com/download.tensorflow.org/example_images/grace_hopper.jpg')\n",
    "image1 = PImage.open(image_path).resize((IMAGE_RES, IMAGE_RES))\n",
    "image_path  = tf_keras.utils.get_file('STOP.jpg',  'https://upload.wikimedia.org/wikipedia/commons/f/f9/STOP_sign.jpg')\n",
    "image2 = PImage.open(image_path).resize((IMAGE_RES, IMAGE_RES))\n",
    "\n",
    "plt.subplot(1,2,1)\n",
    "plt.imshow(image1)\n",
    "plt.axis('off')\n",
    "_ = plt.title(\"Grace\")\n",
    "\n",
    "plt.subplot(1,2,2)\n",
    "plt.imshow(image2)\n",
    "plt.axis('off')\n",
    "_ = plt.title(\"Stop sign\")\n",
    "\n",
    "plt.show()\n"
   ]
  },
  {
   "cell_type": "markdown",
   "metadata": {
    "id": "VZ0XMj0A4wET"
   },
   "source": [
    "## Make a test batch"
   ]
  },
  {
   "cell_type": "code",
   "execution_count": null,
   "metadata": {
    "id": "8QOfcuTZ4x90"
   },
   "outputs": [],
   "source": [
    "x1 = np.array(image1)\n",
    "x2 = np.array(image2)\n",
    "print(\"x1.shape:\", x1.shape)\n",
    "x=np.zeros( (2,IMAGE_RES,IMAGE_RES,3))\n",
    "#x = x1[np.newaxis, ...]\n",
    "x[0] = x1\n",
    "x[1] = x2\n",
    "\n",
    "print(\"batch shape\", x.shape)\n",
    "#x = x / 255.0\n",
    "x = x / 255.0\n",
    "x = x * 2.0\n",
    "x = x - 1.0"
   ]
  },
  {
   "cell_type": "markdown",
   "metadata": {
    "id": "jhDZetTg44Lt"
   },
   "source": [
    "## Use the model to predict classes"
   ]
  },
  {
   "cell_type": "code",
   "execution_count": null,
   "metadata": {
    "id": "c0OaOAv446U9"
   },
   "outputs": [],
   "source": [
    "result = model.predict(x)\n",
    "print(result.shape)\n",
    "predicted_class1 = np.argmax(result[0], axis=-1)\n",
    "print(\"predicted_class1:\", predicted_class1)\n",
    "predicted_class2 = np.argmax(result[1], axis=-1)\n",
    "print(\"predicted_class2:\", predicted_class2)\n",
    "\n",
    "predicted_class_name1 = imagenet_labels[predicted_class1+1]\n",
    "print(\"predicted_class_name1:\", predicted_class_name1)\n",
    "predicted_class_name2= imagenet_labels[predicted_class2+1]\n",
    "print(\"predicted_class_name2:\", predicted_class_name2)"
   ]
  },
  {
   "cell_type": "markdown",
   "metadata": {
    "id": "vMVsnP9Q6mPd"
   },
   "source": [
    "# Fim"
   ]
  }
 ],
 "metadata": {
  "colab": {
   "name": "HelloWorldPython.ipynb",
   "provenance": []
  },
  "kernelspec": {
   "display_name": "Python 3",
   "language": "python",
   "name": "python3"
  },
  "language_info": {
   "codemirror_mode": {
    "name": "ipython",
    "version": 3
   },
   "file_extension": ".py",
   "mimetype": "text/x-python",
   "name": "python",
   "nbconvert_exporter": "python",
   "pygments_lexer": "ipython3",
   "version": "3.9.12"
  }
 },
 "nbformat": 4,
 "nbformat_minor": 1
}
