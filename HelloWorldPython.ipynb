{
  "nbformat": 4,
  "nbformat_minor": 0,
  "metadata": {
    "colab": {
      "name": "HelloWorldPython.ipynb",
      "provenance": []
    },
    "kernelspec": {
      "name": "python3",
      "display_name": "Python 3"
    },
    "language_info": {
      "name": "python"
    }
  },
  "cells": [
    {
      "cell_type": "markdown",
      "metadata": {
        "id": "640rcV-0zQq0"
      },
      "source": [
        "# Hello World Python!\n",
        "Documentação Python: https://docs.python.org"
      ]
    },
    {
      "cell_type": "code",
      "metadata": {
        "id": "kLTfsSjLyqEh"
      },
      "source": [
        "print(\"Esta célula é de código\")\n",
        "# Esta linha está comentada"
      ],
      "execution_count": null,
      "outputs": []
    },
    {
      "cell_type": "markdown",
      "metadata": {
        "id": "8TAO1crczA7O"
      },
      "source": [
        "Esta célula é de texto\n"
      ]
    },
    {
      "cell_type": "markdown",
      "metadata": {
        "id": "gWYjZweT35yB"
      },
      "source": [
        "## Variáveis\n",
        "Tipos numéricos — int, float, complex: https://docs.python.org/3/library/stdtypes.html"
      ]
    },
    {
      "cell_type": "code",
      "metadata": {
        "id": "XoLwTUMj3lUk"
      },
      "source": [
        "a=1\n",
        "b=2\n",
        "c=a+b\n",
        "print(\"c=\",c)\n",
        "print(type(c))\n",
        "\n",
        "d=0.1\n",
        "e=a+d;\n",
        "print(\"e=\",e)\n",
        "print(type(e))\n"
      ],
      "execution_count": null,
      "outputs": []
    },
    {
      "cell_type": "markdown",
      "metadata": {
        "id": "_14x4MjF4BRh"
      },
      "source": [
        "## If"
      ]
    },
    {
      "cell_type": "code",
      "metadata": {
        "id": "rm5Hf83s4EjS"
      },
      "source": [
        "c=4\n",
        "\n",
        "if (c==3):\n",
        "    print(\"entrei no if\")\n",
        "elif (c==4):\n",
        "    print(\"entrei no elif\")\n",
        "else:\n",
        "    print(\"entrei no else\")\n"
      ],
      "execution_count": null,
      "outputs": []
    },
    {
      "cell_type": "markdown",
      "metadata": {
        "id": "d7boUNjo4NuG"
      },
      "source": [
        "## For"
      ]
    },
    {
      "cell_type": "code",
      "metadata": {
        "id": "oP28TJ3x4SC9"
      },
      "source": [
        "y=1\n",
        "for x in range(10):\n",
        "    print(\"x =\",x)\n",
        "    y = y + x\n",
        "print(\"y =\", y)\n"
      ],
      "execution_count": null,
      "outputs": []
    },
    {
      "cell_type": "markdown",
      "metadata": {
        "id": "kIXqgaK94X-x"
      },
      "source": [
        "## While"
      ]
    },
    {
      "cell_type": "code",
      "metadata": {
        "id": "Ddb97YBT4avd"
      },
      "source": [
        "x=0\n",
        "y=0\n",
        "while (x<10):\n",
        "    print(\"x =\", x)\n",
        "    y= y + x\n",
        "    x = x + 1\n",
        "print(\"y =\", y)\n"
      ],
      "execution_count": null,
      "outputs": []
    },
    {
      "cell_type": "markdown",
      "metadata": {
        "id": "zQMkJ9pJ4ghA"
      },
      "source": [
        "## Precisão de floats"
      ]
    },
    {
      "cell_type": "code",
      "metadata": {
        "id": "31K7YtWd4jzY"
      },
      "source": [
        "a=0.1\n",
        "b=0.2\n",
        "c=a+b\n",
        "print(\"c\", c)\n",
        "print(type(c))"
      ],
      "execution_count": null,
      "outputs": []
    },
    {
      "cell_type": "markdown",
      "metadata": {
        "id": "VZ0XMj0A4wET"
      },
      "source": [
        "## Strings"
      ]
    },
    {
      "cell_type": "code",
      "metadata": {
        "id": "8QOfcuTZ4x90"
      },
      "source": [
        "m=\"olá\"\n",
        "print(m)\n",
        "print(m[0:1])\n",
        "o = \"adeus\"\n",
        "p= m + \" \" + o\n",
        "print(\"p:\",p)\n"
      ],
      "execution_count": null,
      "outputs": []
    },
    {
      "cell_type": "markdown",
      "metadata": {
        "id": "jhDZetTg44Lt"
      },
      "source": [
        "## Funções"
      ]
    },
    {
      "cell_type": "code",
      "metadata": {
        "id": "c0OaOAv446U9"
      },
      "source": [
        "def f1(x1,x2):\n",
        "    yf1=x1*x2\n",
        "    return yf1\n",
        "\n",
        "q=f1(10,3)\n",
        "print(\"q:\",q)\n"
      ],
      "execution_count": null,
      "outputs": []
    },
    {
      "cell_type": "markdown",
      "metadata": {
        "id": "BxsUZBBP5BJC"
      },
      "source": [
        "## Tuplos"
      ]
    },
    {
      "cell_type": "code",
      "metadata": {
        "id": "HXAdW-3Q5DQh"
      },
      "source": [
        "a=(1,3,5,7,9)\n",
        "print(\"a: \", a)\n",
        "print(\"a[3]\", a[3])\n",
        "print(\"a[2:4]\", a[2:4])\n",
        "print(\"a[2:]\", a[2:])\n",
        "# a[1]=10\n"
      ],
      "execution_count": null,
      "outputs": []
    },
    {
      "cell_type": "code",
      "metadata": {
        "id": "S9CjooPR5Fvt"
      },
      "source": [
        "a[1]=10 #esta linha dá erro porque os tuplos são imutáveis"
      ],
      "execution_count": null,
      "outputs": []
    },
    {
      "cell_type": "markdown",
      "metadata": {
        "id": "w0WbyIrH5vxB"
      },
      "source": [
        "## Listas"
      ]
    },
    {
      "cell_type": "code",
      "metadata": {
        "id": "cZBjRpq_5xYf"
      },
      "source": [
        "b=[2,4,6,8,10]\n",
        "print(\"b\")\n",
        "print(b)\n",
        "print(b[3])\n",
        "print(b[2:4])\n",
        "print(b[2:])\n",
        "b[1]=10\n",
        "\n",
        "c=list(a)\n",
        "print(\"c\")\n",
        "print(c)\n",
        "print(c[3])\n",
        "print(c[2:4])\n",
        "print(c[2:])\n",
        "c[1]=12\n"
      ],
      "execution_count": null,
      "outputs": []
    },
    {
      "cell_type": "markdown",
      "metadata": {
        "id": "TNuVAI525zJl"
      },
      "source": [
        "## Dicionários"
      ]
    },
    {
      "cell_type": "code",
      "metadata": {
        "id": "9v2hnEPf52_9"
      },
      "source": [
        "words={}\n",
        "words[\"BAIT\"] = \"Brito Artificial Intelligence Team\"\n",
        "words[\"2Ai\"] = \"Applied Artificial Intelligence Laboratory\"\n",
        "words[\"LEEC\"] = \"Licenciatura em Engenharia Electrotécnica e de Computadores\"\n",
        "words[\"EST\"] = \"Escola Superior de Tecnologia\"\n",
        "words[\"IPCA\"] = \"Instituto Politécnico do Cávado e do Ave\"\n",
        "\n",
        "print(\"BAIT -\", words[\"BAIT\"])\n"
      ],
      "execution_count": null,
      "outputs": []
    },
    {
      "cell_type": "markdown",
      "metadata": {
        "id": "vMVsnP9Q6mPd"
      },
      "source": [
        "# Fim"
      ]
    }
  ]
}