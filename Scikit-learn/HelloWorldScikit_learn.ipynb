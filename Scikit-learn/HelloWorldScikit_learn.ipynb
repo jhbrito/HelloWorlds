{
  "nbformat": 4,
  "nbformat_minor": 0,
  "metadata": {
    "colab": {
      "name": "HelloWorldScikit-learn.ipynb",
      "provenance": []
    },
    "kernelspec": {
      "name": "python3",
      "display_name": "Python 3"
    },
    "language_info": {
      "name": "python"
    }
  },
  "cells": [
    {
      "cell_type": "markdown",
      "metadata": {
        "id": "Ht1UXsa1tTk9"
      },
      "source": [
        "# Hello World Scikit-learn"
      ]
    },
    {
      "cell_type": "markdown",
      "metadata": {
        "id": "YlKK8f7-tYNC"
      },
      "source": [
        "## Imports and init"
      ]
    },
    {
      "cell_type": "code",
      "metadata": {
        "id": "PfPGs3tCtN8M"
      },
      "source": [
        "import numpy as np\n",
        "import matplotlib.pyplot as plt\n",
        "from sklearn.model_selection import train_test_split\n",
        "from sklearn.svm import LinearSVC\n",
        "from sklearn.neighbors import KNeighborsClassifier\n",
        "from sklearn.tree import DecisionTreeClassifier\n",
        "from sklearn.ensemble import RandomForestClassifier, AdaBoostClassifier\n",
        "from sklearn.neural_network import MLPClassifier\n",
        "from sklearn import metrics\n",
        "\n",
        "np.random.seed(1)\n"
      ],
      "execution_count": null,
      "outputs": []
    },
    {
      "cell_type": "markdown",
      "metadata": {
        "id": "R3ZhOHOmtbIv"
      },
      "source": [
        "## Create some synthetic data"
      ]
    },
    {
      "cell_type": "code",
      "metadata": {
        "id": "KqbRsYT0teX_"
      },
      "source": [
        "n_samples_per_class = 100\n",
        "\n",
        "class0_x0_mean = 10.0\n",
        "class0_x0_std = 2.0\n",
        "class0_x1_mean = 20.0\n",
        "class0_x1_std = 2.0\n",
        "\n",
        "class1_x0_mean = 20.0\n",
        "class1_x0_std = 2.0\n",
        "class1_x1_mean = 10.0\n",
        "class1_x1_std = 2.0\n",
        "\n",
        "class2_x0_mean = 30.0\n",
        "class2_x0_std = 2.0\n",
        "class2_x1_mean = 0.0\n",
        "class2_x1_std = 2.0\n",
        "\n",
        "X = np.zeros((3 * n_samples_per_class, 2), dtype=float)\n",
        "Y = np.zeros((3 * n_samples_per_class), dtype=int)\n",
        "\n",
        "X[0:n_samples_per_class, 0] = np.random.randn(n_samples_per_class) * class0_x0_std + class0_x0_mean\n",
        "X[0:n_samples_per_class, 1] = np.random.randn(n_samples_per_class) * class0_x1_std + class0_x1_mean\n",
        "X[n_samples_per_class:2 * n_samples_per_class, 0] = np.random.randn(n_samples_per_class) * class1_x0_std + class1_x0_mean\n",
        "X[n_samples_per_class:2 * n_samples_per_class, 1] = np.random.randn(n_samples_per_class) * class1_x1_std + class1_x1_mean\n",
        "X[2 * n_samples_per_class:3 * n_samples_per_class, 0] = np.random.randn(n_samples_per_class) * class2_x0_std + class2_x0_mean\n",
        "X[2 * n_samples_per_class:3 * n_samples_per_class, 1] = np.random.randn(n_samples_per_class) * class2_x1_std + class2_x1_mean\n",
        "\n",
        "Y[n_samples_per_class:2 * n_samples_per_class] = np.ones((n_samples_per_class), dtype=float)\n",
        "Y[2 * n_samples_per_class:3 * n_samples_per_class] = 2 * np.ones((n_samples_per_class), dtype=float)"
      ],
      "execution_count": null,
      "outputs": []
    },
    {
      "cell_type": "markdown",
      "metadata": {
        "id": "CnHyWShruxuC"
      },
      "source": [
        "This is what the data looks like"
      ]
    },
    {
      "cell_type": "code",
      "metadata": {
        "id": "cSeSUPT7u0c5"
      },
      "source": [
        "print(X.shape)\n",
        "print(X[0:10,:]) # print first 10 lines"
      ],
      "execution_count": null,
      "outputs": []
    },
    {
      "cell_type": "code",
      "metadata": {
        "id": "Sw6-VwnqvBpx"
      },
      "source": [
        "print(Y.shape)\n",
        "print(Y[0:10])"
      ],
      "execution_count": null,
      "outputs": []
    },
    {
      "cell_type": "code",
      "metadata": {
        "id": "mMtmJBWQv3i4"
      },
      "source": [
        "fig = plt.figure(1)\n",
        "ax = fig.add_subplot(1, 2, 1)\n",
        "ax.scatter(X[0:n_samples_per_class, 0], X[0:n_samples_per_class, 1], c='r', marker='o')\n",
        "ax.scatter(X[n_samples_per_class:2 * n_samples_per_class, 0], X[n_samples_per_class:2 * n_samples_per_class, 1], c='g', marker='o')\n",
        "ax.scatter(X[2 * n_samples_per_class:3 * n_samples_per_class, 0], X[2 * n_samples_per_class:3 * n_samples_per_class, 1], c='b', marker='o')\n",
        "ax.set_xlabel(\"x0\")\n",
        "ax.set_ylabel(\"x1\")\n",
        "ax.set_title(\"Data\")\n",
        "plt.show()"
      ],
      "execution_count": null,
      "outputs": []
    },
    {
      "cell_type": "markdown",
      "metadata": {
        "id": "Na79J3LVtvsq"
      },
      "source": [
        "## Split data into training set and test set"
      ]
    },
    {
      "cell_type": "code",
      "metadata": {
        "id": "RtolT1Mwt0d-"
      },
      "source": [
        "X_train, X_test, Y_train, Y_test = train_test_split(X, Y, test_size=0.2, stratify=Y, random_state=1)"
      ],
      "execution_count": null,
      "outputs": []
    },
    {
      "cell_type": "markdown",
      "metadata": {
        "id": "gfuKOa_Vt4d4"
      },
      "source": [
        "## Create classifier and train it eith the training data"
      ]
    },
    {
      "cell_type": "code",
      "metadata": {
        "id": "5-_cfPA7t_GY"
      },
      "source": [
        "# model = LinearSVC()\n",
        "# model = KNeighborsClassifier()\n",
        "# model = DecisionTreeClassifier()\n",
        "# model = RandomForestClassifier()\n",
        "# model = AdaBoostClassifier()\n",
        "# model = MLPClassifier()\n",
        "model = MLPClassifier(hidden_layer_sizes=(10, 10), max_iter=1000)\n",
        "\n",
        "model.fit(X_train, Y_train)"
      ],
      "execution_count": null,
      "outputs": []
    },
    {
      "cell_type": "markdown",
      "metadata": {
        "id": "aUT2yEjOuFk8"
      },
      "source": [
        "## Use the classifier on the test data"
      ]
    },
    {
      "cell_type": "code",
      "metadata": {
        "id": "9_u_xuGpuE3h"
      },
      "source": [
        "Y_predict = model.predict(X_test)\n"
      ],
      "execution_count": null,
      "outputs": []
    },
    {
      "cell_type": "markdown",
      "metadata": {
        "id": "zXtKoBCbuMOg"
      },
      "source": [
        "## Evaluate the results"
      ]
    },
    {
      "cell_type": "code",
      "metadata": {
        "id": "sGJ6dQu8uOvh"
      },
      "source": [
        "cm = metrics.confusion_matrix(Y_test, Y_predict, labels=[0, 1, 2])\n",
        "print(\"Confusion Matrix:\")\n",
        "print(cm)\n",
        "\n",
        "prfs = metrics.precision_recall_fscore_support(Y_test, Y_predict)\n",
        "print(\"Precision Recall F-score Support:\")\n",
        "print(prfs)\n",
        "\n",
        "accuracy = metrics.accuracy_score(Y_test, Y_predict)\n",
        "print(\"Accuracy:\")\n",
        "print(accuracy)\n",
        "\n",
        "cr = metrics.classification_report(Y_test, Y_predict)\n",
        "print(\"Classification Report:\")\n",
        "print(cr)\n"
      ],
      "execution_count": null,
      "outputs": []
    }
  ]
}