{
 "cells": [
  {
   "cell_type": "markdown",
   "metadata": {
    "id": "640rcV-0zQq0"
   },
   "source": [
    "# Hello World Mobilenet Finetune for Skin Lesion Classification "
   ]
  },
  {
   "cell_type": "markdown",
   "metadata": {},
   "source": [
    "Data is a subset of https://dataverse.harvard.edu/dataset.xhtml?persistentId=doi:10.7910/DVN/DBW86T"
   ]
  },
  {
   "cell_type": "markdown",
   "metadata": {
    "id": "gWYjZweT35yB"
   },
   "source": [
    "## Imports"
   ]
  },
  {
   "cell_type": "code",
   "execution_count": null,
   "metadata": {
    "id": "XoLwTUMj3lUk"
   },
   "outputs": [],
   "source": [
    "import os\n",
    "import numpy as np\n",
    "import glob\n",
    "import shutil\n",
    "import matplotlib.pyplot as plt\n",
    "\n",
    "import tensorflow as tf\n",
    "from tensorflow.keras.preprocessing.image import ImageDataGenerator"
   ]
  },
  {
   "cell_type": "code",
   "execution_count": null,
   "metadata": {},
   "outputs": [],
   "source": [
    "base_dir = '/content/drive/MyDrive/dados/HAM10000subset'\n",
    "base_dir = 'HAM10000/HAM10000subset/'"
   ]
  },
  {
   "cell_type": "markdown",
   "metadata": {
    "id": "zQMkJ9pJ4ghA"
   },
   "source": [
    "## Train/test split"
   ]
  },
  {
   "cell_type": "code",
   "execution_count": null,
   "metadata": {},
   "outputs": [],
   "source": [
    "classes = ['akiec', 'bcc', 'bkl', 'df', 'mel', 'nv', 'vasc']\n",
    "dataset_split_percentage = 0.75 # percentage of images for training\n",
    "IMG_SHAPE = 224\n",
    "\n",
    "for cl in classes:\n",
    "    img_path = os.path.join(base_dir, cl)\n",
    "    images = glob.glob(img_path + '/*.jpg')\n",
    "    print(\"{}: {} Images\".format(cl, len(images)))\n",
    "    num_train = int(round(len(images) * dataset_split_percentage))\n",
    "    train, val = images[:num_train], images[num_train:]\n",
    "\n",
    "    for t in train:\n",
    "        if not os.path.exists(os.path.join(base_dir, 'train', cl)):\n",
    "            os.makedirs(os.path.join(base_dir, 'train', cl))\n",
    "        bn=os.path.basename(t)\n",
    "        if not os.path.exists(os.path.join(base_dir, 'train', cl, bn)):\n",
    "            shutil.copy(t, os.path.join(base_dir, 'train', cl))\n",
    "\n",
    "    for v in val:\n",
    "        if not os.path.exists(os.path.join(base_dir, 'val', cl)):\n",
    "            os.makedirs(os.path.join(base_dir, 'val', cl))\n",
    "        bn = os.path.basename(v)\n",
    "        if not os.path.exists(os.path.join(base_dir, 'val', cl, bn)):\n",
    "            shutil.copy(v, os.path.join(base_dir, 'val', cl))\n",
    "\n",
    "print(\"training images:\", round(len(images)*dataset_split_percentage))\n",
    "train_dir = os.path.join(base_dir, 'train')\n",
    "val_dir = os.path.join(base_dir, 'val')\n"
   ]
  },
  {
   "cell_type": "code",
   "execution_count": null,
   "metadata": {},
   "outputs": [],
   "source": [
    "batch_size = 16\n",
    "\n",
    "image_gen_train = ImageDataGenerator(\n",
    "    rescale=1./255,\n",
    "    rotation_range=45,\n",
    "    width_shift_range=.15,\n",
    "    height_shift_range=.15,\n",
    "    horizontal_flip=True,\n",
    "    zoom_range=0.5)\n",
    "train_data_gen = image_gen_train.flow_from_directory(\n",
    "    batch_size=batch_size,\n",
    "    directory=train_dir,\n",
    "    shuffle=True,\n",
    "    target_size=(IMG_SHAPE,IMG_SHAPE),\n",
    "    class_mode='sparse')\n",
    "\n",
    "image_gen_val = ImageDataGenerator(rescale=1./255)\n",
    "val_data_gen = image_gen_val.flow_from_directory(\n",
    "    batch_size=batch_size,\n",
    "    directory=val_dir,\n",
    "    target_size=(IMG_SHAPE, IMG_SHAPE),\n",
    "    class_mode='sparse')\n"
   ]
  },
  {
   "cell_type": "markdown",
   "metadata": {
    "id": "_14x4MjF4BRh"
   },
   "source": [
    "## Load Mobilenet model"
   ]
  },
  {
   "cell_type": "code",
   "execution_count": null,
   "metadata": {
    "id": "rm5Hf83s4EjS"
   },
   "outputs": [],
   "source": [
    "model = tf.keras.applications.mobilenet_v2.MobileNetV2(weights='imagenet')\n",
    "model.summary()"
   ]
  },
  {
   "cell_type": "markdown",
   "metadata": {},
   "source": [
    "## Make a model for Skin Lesion Classification "
   ]
  },
  {
   "cell_type": "code",
   "execution_count": null,
   "metadata": {},
   "outputs": [],
   "source": [
    "model.trainable = False\n",
    "base_output = model.layers[-2].output # layer number obtained from model summary above\n",
    "new_output = tf.keras.layers.Dense(7, activation=\"softmax\")(base_output)\n",
    "modelMobilenetSkin = tf.keras.models.Model(inputs=model.inputs, outputs=new_output)\n",
    "modelMobilenetSkin.summary()"
   ]
  },
  {
   "cell_type": "code",
   "execution_count": null,
   "metadata": {
    "id": "31K7YtWd4jzY"
   },
   "outputs": [],
   "source": [
    "modelMobilenetSkin.compile(\n",
    "    optimizer='adam',\n",
    "    loss='sparse_categorical_crossentropy',\n",
    "    metrics=['accuracy'])"
   ]
  },
  {
   "cell_type": "markdown",
   "metadata": {
    "id": "VZ0XMj0A4wET"
   },
   "source": [
    "## Train the new model"
   ]
  },
  {
   "cell_type": "code",
   "execution_count": null,
   "metadata": {
    "id": "8QOfcuTZ4x90"
   },
   "outputs": [],
   "source": [
    "epochs = 10\n",
    "history = modelMobilenetSkin.fit(\n",
    "    train_data_gen,\n",
    "    steps_per_epoch=int(np.ceil(train_data_gen.n / float(batch_size))),\n",
    "    epochs=epochs,\n",
    "    validation_data=val_data_gen,\n",
    "    validation_steps=int(np.ceil(val_data_gen.n / float(batch_size))) )\n"
   ]
  },
  {
   "cell_type": "markdown",
   "metadata": {},
   "source": [
    "## Plot trainning curves"
   ]
  },
  {
   "cell_type": "code",
   "execution_count": null,
   "metadata": {
    "id": "c0OaOAv446U9"
   },
   "outputs": [],
   "source": [
    "acc = history.history['accuracy']\n",
    "val_acc = history.history['val_accuracy']\n",
    "loss = history.history['loss']\n",
    "val_loss = history.history['val_loss']\n",
    "epochs_range = range(epochs)\n",
    "\n",
    "plt.figure(figsize=(8, 8))\n",
    "plt.subplot(1, 2, 1)\n",
    "plt.plot(epochs_range, acc, label='Training Accuracy')\n",
    "plt.plot(epochs_range, val_acc, label='Validation Accuracy')\n",
    "plt.legend(loc='lower right')\n",
    "plt.title('Training and Validation Accuracy')\n",
    "\n",
    "plt.subplot(1, 2, 2)\n",
    "plt.plot(epochs_range, loss, label='Training Loss')\n",
    "plt.plot(epochs_range, val_loss, label='Validation Loss')\n",
    "plt.legend(loc='upper right')\n",
    "plt.title('Training and Validation Loss')"
   ]
  },
  {
   "cell_type": "markdown",
   "metadata": {
    "id": "jhDZetTg44Lt"
   },
   "source": [
    "## Use the model to predict classes"
   ]
  },
  {
   "cell_type": "code",
   "execution_count": null,
   "metadata": {},
   "outputs": [],
   "source": [
    "num_test = int(round(700 * dataset_split_percentage))\n",
    "\n",
    "image_gen_test = ImageDataGenerator(rescale=1./255)\n",
    "test_data_gen = image_gen_test.flow_from_directory(\n",
    "    batch_size=num_test,\n",
    "    directory=val_dir,\n",
    "    target_size=(IMG_SHAPE, IMG_SHAPE),\n",
    "    class_mode='sparse')\n",
    "X_test, Y_test=test_data_gen.next()\n",
    "\n",
    "Y_predict = modelMobilenetSkin.predict(X_test)"
   ]
  },
  {
   "cell_type": "code",
   "execution_count": null,
   "metadata": {},
   "outputs": [],
   "source": [
    "Y_predict[0]"
   ]
  },
  {
   "cell_type": "code",
   "execution_count": null,
   "metadata": {},
   "outputs": [],
   "source": [
    "\n",
    "Y_predicted_label = np.argmax(Y_predict, axis=-1)\n",
    "Y_predicted_label"
   ]
  },
  {
   "cell_type": "markdown",
   "metadata": {},
   "source": [
    "## Evaluate results"
   ]
  },
  {
   "cell_type": "code",
   "execution_count": null,
   "metadata": {},
   "outputs": [],
   "source": [
    "from sklearn import metrics\n",
    "cm = metrics.confusion_matrix(Y_test, Y_predicted_label, labels=[0, 1, 2, 3, 4, 5, 6])\n",
    "print(\"Confusion Matrix:\")\n",
    "print(cm)\n",
    "\n",
    "prfs = metrics.precision_recall_fscore_support(Y_test, Y_predicted_label)\n",
    "print(\"Precision Recall F-score Support:\")\n",
    "print(prfs)\n",
    "\n",
    "accuracy = metrics.accuracy_score(Y_test, Y_predicted_label)\n",
    "print(\"Accuracy:\")\n",
    "print(accuracy)\n",
    "\n",
    "cr = metrics.classification_report(Y_test, Y_predicted_label)\n",
    "print(\"Classification Report:\")\n",
    "print(cr)"
   ]
  }
 ],
 "metadata": {
  "colab": {
   "name": "HelloWorldPython.ipynb",
   "provenance": []
  },
  "kernelspec": {
   "display_name": "Python 3",
   "language": "python",
   "name": "python3"
  },
  "language_info": {
   "codemirror_mode": {
    "name": "ipython",
    "version": 3
   },
   "file_extension": ".py",
   "mimetype": "text/x-python",
   "name": "python",
   "nbconvert_exporter": "python",
   "pygments_lexer": "ipython3",
   "version": "3.6.8"
  }
 },
 "nbformat": 4,
 "nbformat_minor": 1
}
