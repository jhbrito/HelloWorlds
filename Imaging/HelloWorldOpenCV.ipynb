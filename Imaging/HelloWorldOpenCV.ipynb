{
  "nbformat": 4,
  "nbformat_minor": 0,
  "metadata": {
    "colab": {
      "name": "HelloWorldOpenCV.ipynb",
      "provenance": []
    },
    "kernelspec": {
      "name": "python3",
      "display_name": "Python 3"
    },
    "language_info": {
      "name": "python"
    }
  },
  "cells": [
    {
      "cell_type": "markdown",
      "metadata": {
        "id": "GC6dLEVay53K"
      },
      "source": [
        "# Hello World OpenCV"
      ]
    },
    {
      "cell_type": "markdown",
      "metadata": {
        "id": "S60iIkvYy89n"
      },
      "source": [
        "## Imports"
      ]
    },
    {
      "cell_type": "code",
      "metadata": {
        "id": "X-9-Q69Zy4st"
      },
      "source": [
        "import cv2\n",
        "from google.colab.patches import cv2_imshow # cv2.imshow doesnt work in Colab\n",
        "import os\n",
        "\n",
        "print(\"OpenCV Version: {}\".format(cv2.__version__))"
      ],
      "execution_count": null,
      "outputs": []
    },
    {
      "cell_type": "markdown",
      "metadata": {
        "id": "eMcw6rjFzZcl"
      },
      "source": [
        "## Get some image"
      ]
    },
    {
      "cell_type": "code",
      "metadata": {
        "id": "zgpkgIzyzYja"
      },
      "source": [
        "if os.path.isfile('lena.png'):\n",
        "    print (\"Test Image File exist\")\n",
        "else:\n",
        "    print (\"Test Image File does not exist; downloading...\")\n",
        "    import urllib.request as urllib_request\n",
        "    urllib_request.urlretrieve(\"https://upload.wikimedia.org/wikipedia/en/7/7d/Lenna_%28test_image%29.png\", \"lena.png\")\n",
        "\n",
        "image = cv2.imread(\"./lena.png\")\n",
        "cv2_imshow(image) # should be: cv2.imshow(\"Image\", image)'\n",
        "cv2.waitKey(0)\n",
        "cv2.destroyAllWindows()"
      ],
      "execution_count": null,
      "outputs": []
    },
    {
      "cell_type": "markdown",
      "metadata": {
        "id": "t0xHb_wO0dyh"
      },
      "source": [
        "## Images are stored in BRG instead of RGB"
      ]
    },
    {
      "cell_type": "code",
      "metadata": {
        "id": "xNJlBo5o0jet"
      },
      "source": [
        "rgb_image = cv2.cvtColor(image, cv2.COLOR_BGR2RGB)\n",
        "cv2_imshow(rgb_image) # cv2.imshow(\"Image RGB\", rgb_image)\n",
        "cv2.waitKey(0)\n",
        "cv2.destroyAllWindows()\n"
      ],
      "execution_count": null,
      "outputs": []
    },
    {
      "cell_type": "markdown",
      "metadata": {
        "id": "lznvSEZk0zJf"
      },
      "source": [
        "## Define a visualization function"
      ]
    },
    {
      "cell_type": "code",
      "metadata": {
        "id": "kjqwdVfS0yhB"
      },
      "source": [
        "def viewImage(image, name_of_window):\n",
        "    # cv2.namedWindow(name_of_window, cv2.WINDOW_AUTOSIZE) # cv2.namedWindow crashes Colab\n",
        "    cv2_imshow(image) #should be: cv2.imshow(name_of_window, image)\n",
        "    cv2.waitKey(0)\n",
        "    cv2.destroyAllWindows()\n",
        "viewImage(image, \"Lena\")"
      ],
      "execution_count": null,
      "outputs": []
    },
    {
      "cell_type": "markdown",
      "metadata": {
        "id": "EjSl7LWr04i1"
      },
      "source": [
        "## Edit pixels"
      ]
    },
    {
      "cell_type": "code",
      "metadata": {
        "id": "K6VlzZ3y1zRg"
      },
      "source": [
        "edited = image.copy()\n",
        "edited[200:390, 200:360, 0] = 255\n",
        "viewImage(edited, \"Lena edited\")\n"
      ],
      "execution_count": null,
      "outputs": []
    },
    {
      "cell_type": "markdown",
      "metadata": {
        "id": "MiETVXJY11W-"
      },
      "source": [
        "## Cropping"
      ]
    },
    {
      "cell_type": "code",
      "metadata": {
        "id": "An3My_Ol13BX"
      },
      "source": [
        "cropped = image[200:390, 200:360]\n",
        "viewImage(cropped, \"Lena cropped\")"
      ],
      "execution_count": null,
      "outputs": []
    },
    {
      "cell_type": "markdown",
      "metadata": {
        "id": "xRjIVdJz15Hh"
      },
      "source": [
        "## Resizing"
      ]
    },
    {
      "cell_type": "code",
      "metadata": {
        "id": "RUyz-ZRw17AJ"
      },
      "source": [
        "scale_percent = 10 # percent of original size\n",
        "width = int(image.shape[1] * scale_percent / 100)\n",
        "height = int(image.shape[0] * scale_percent / 100)\n",
        "dim = (width, height)\n",
        "resized = cv2.resize(image, dim, interpolation = cv2.INTER_AREA)\n",
        "viewImage(resized, \"Lena resized to {}%\".format(scale_percent))\n"
      ],
      "execution_count": null,
      "outputs": []
    },
    {
      "cell_type": "markdown",
      "metadata": {
        "id": "QE2OTAXp2AF2"
      },
      "source": [
        "## Drawing a Rectangle"
      ]
    },
    {
      "cell_type": "code",
      "metadata": {
        "id": "ITQoOZu32CYb"
      },
      "source": [
        "output = image.copy()\n",
        "cv2.rectangle(img=output, pt1=(200, 200), pt2=(360, 390), color=(255, 0, 0), thickness=10)\n",
        "viewImage(output, \"Lena with a rectangle\")\n"
      ],
      "execution_count": null,
      "outputs": []
    },
    {
      "cell_type": "markdown",
      "metadata": {
        "id": "STVwMhiv2EHO"
      },
      "source": [
        "## Drawing a line"
      ]
    },
    {
      "cell_type": "code",
      "metadata": {
        "id": "xBUBqrKZ2Htn"
      },
      "source": [
        "cv2.line(img=output, pt1=(256, 390), pt2=(256, 512), color=(0, 0, 255), thickness=5)\n",
        "viewImage(output, \"Lena with a line\")"
      ],
      "execution_count": null,
      "outputs": []
    },
    {
      "cell_type": "markdown",
      "metadata": {
        "id": "gfWibNZV2LHP"
      },
      "source": [
        "## Writing on an image"
      ]
    },
    {
      "cell_type": "code",
      "metadata": {
        "id": "yunxC4Xd2MbD"
      },
      "source": [
        "cv2.putText(img=output, text=\"Lena\", org=(360, 390), fontFace=cv2.FONT_HERSHEY_SIMPLEX, fontScale=2, color=(0, 255, 0), thickness=2)\n",
        "viewImage(output, \"Lena with text\")"
      ],
      "execution_count": null,
      "outputs": []
    },
    {
      "cell_type": "markdown",
      "metadata": {
        "id": "oWCqczjq2RkZ"
      },
      "source": [
        "## Saving an image"
      ]
    },
    {
      "cell_type": "code",
      "metadata": {
        "id": "WSODBz5q2QFn"
      },
      "source": [
        "cv2.imwrite(\"./output.jpg\", output)\n",
        "!pwd\n",
        "!ls"
      ],
      "execution_count": null,
      "outputs": []
    },
    {
      "cell_type": "markdown",
      "metadata": {
        "id": "JjvO4FOo2TVD"
      },
      "source": [
        "## Blurring/Smoothing"
      ]
    },
    {
      "cell_type": "code",
      "metadata": {
        "id": "fTu6BLzF2WCo"
      },
      "source": [
        "blurred = cv2.GaussianBlur(src=image, ksize=(15, 15), sigmaX=2)\n",
        "viewImage(blurred, \"Lena blurred\")"
      ],
      "execution_count": null,
      "outputs": []
    },
    {
      "cell_type": "markdown",
      "metadata": {
        "id": "l6baNXRs2XZ6"
      },
      "source": [
        "## Rotating"
      ]
    },
    {
      "cell_type": "code",
      "metadata": {
        "id": "DQ2_XJ0t2Yx9"
      },
      "source": [
        "(h, w, d) = image.shape\n",
        "center = (w // 2, h // 2)\n",
        "rot = 45\n",
        "rotMat = cv2.getRotationMatrix2D(center=center, angle=rot, scale=1.0)\n",
        "rotated = cv2.warpAffine(src=image, M=rotMat, dsize=(w, h))\n",
        "viewImage(rotated, \"Lena rotated by {} degrees\".format(rot))"
      ],
      "execution_count": null,
      "outputs": []
    },
    {
      "cell_type": "markdown",
      "metadata": {
        "id": "2E784wjB2b4D"
      },
      "source": [
        "## Blend"
      ]
    },
    {
      "cell_type": "code",
      "metadata": {
        "id": "q9Kz_3HA2dUE"
      },
      "source": [
        "alpha_slider_max = 100\n",
        "weight = 50\n",
        "\n",
        "def on_trackbar_weight(val):\n",
        "    alpha = val / alpha_slider_max\n",
        "    beta = ( 1.0 - alpha )\n",
        "    blend = cv2.addWeighted(image, alpha, rotated, beta, 0.0)\n",
        "    #cv2.imshow('Lena blended', blend)\n",
        "    cv2_imshow(blend)\n",
        "\n",
        "#cv2.namedWindow('Lena blended')\n",
        "#trackbar_name = 'Alpha 0 - {}'.format(alpha_slider_max)\n",
        "#cv2.createTrackbar(trackbar_name, 'Lena blended' , 50, alpha_slider_max, on_trackbar_weight)\n",
        "on_trackbar_weight(weight)\n",
        "cv2.waitKey()\n",
        "#cv2.destroyWindow('Lena blended')\n"
      ],
      "execution_count": null,
      "outputs": []
    },
    {
      "cell_type": "markdown",
      "metadata": {
        "id": "183FYl9d2wbW"
      },
      "source": [
        "## Grayscaling"
      ]
    },
    {
      "cell_type": "code",
      "metadata": {
        "id": "jDgU7jxi2yZ8"
      },
      "source": [
        "gray_image = cv2.cvtColor(src=image, code=cv2.COLOR_BGR2GRAY)\n",
        "viewImage(gray_image, \"Lena gray-scale\")"
      ],
      "execution_count": null,
      "outputs": []
    },
    {
      "cell_type": "markdown",
      "metadata": {
        "id": "fQM3tI_y21Vb"
      },
      "source": [
        "## Thresholding"
      ]
    },
    {
      "cell_type": "code",
      "metadata": {
        "id": "9-R6cIw422oR"
      },
      "source": [
        "threshold_slider_max = 255\n",
        "threshold = 200\n",
        "\n",
        "def on_trackbar_threshold(val):\n",
        "    threshold = val\n",
        "    ret, threshold_image = cv2.threshold(gray_image, threshold, 255, 0)\n",
        "    #cv2.imshow(\"Lena thresholded\", threshold_image)\n",
        "    cv2_imshow(threshold_image)\n",
        "\n",
        "# cv2.namedWindow(\"Lena thresholded\")\n",
        "# trackbar_name = \"Threshold 0 - {}\".format(threshold_slider_max)\n",
        "# cv2.createTrackbar(trackbar_name, \"Lena thresholded\" , threshold, threshold_slider_max, on_trackbar_threshold)\n",
        "on_trackbar_threshold(threshold)\n",
        "#cv2.waitKey()\n",
        "#cv2.destroyWindow(\"Lena thresholded\")\n",
        "\n",
        "ret, threshold_image = cv2.threshold(src=gray_image, thresh=threshold, maxval=255, type=0)"
      ],
      "execution_count": null,
      "outputs": []
    },
    {
      "cell_type": "markdown",
      "metadata": {
        "id": "ingX7djN3Gme"
      },
      "source": [
        "## Contours"
      ]
    },
    {
      "cell_type": "code",
      "metadata": {
        "id": "yur0yPpm3HwA"
      },
      "source": [
        "contours, hierarchy = cv2.findContours(image=threshold_image, mode=cv2.RETR_TREE, method=cv2.CHAIN_APPROX_NONE)\n",
        "image_with_contours= image.copy()\n",
        "cv2.drawContours(image=image_with_contours, contours=contours, contourIdx=-1, color=(255, 0, 0), thickness=1)\n",
        "viewImage(image_with_contours, \"Lena contours\")\n"
      ],
      "execution_count": null,
      "outputs": []
    },
    {
      "cell_type": "markdown",
      "metadata": {
        "id": "r4EHa8vG3LDo"
      },
      "source": [
        "## Face Detection"
      ]
    },
    {
      "cell_type": "code",
      "metadata": {
        "id": "YJKTyyiq3Owk"
      },
      "source": [
        "if os.path.isfile('haarcascade_frontalface_default.xml'):\n",
        "    print (\"Detection Model File exists\")\n",
        "else:\n",
        "    print (\"Detection Model File does not exist; downloading...\")\n",
        "    import urllib.request as urllib_request\n",
        "    urllib_request.urlretrieve(\"https://raw.githubusercontent.com/opencv/opencv/master/data/haarcascades/haarcascade_frontalface_default.xml\", \"haarcascade_frontalface_default.xml\")\n",
        "\n",
        "face_cascade = cv2.CascadeClassifier('haarcascade_frontalface_default.xml')\n",
        "faces = face_cascade.detectMultiScale(gray_image)\n",
        "print(\"Lena with {} faces detected\".format(len(faces)))\n",
        "image_faces= image.copy()\n",
        "for (x, y, w, h) in faces:\n",
        "    cv2.rectangle(image_faces, (x, y), (x+w, y+h), (0, 255, 0), 2)\n",
        "viewImage(image_faces,\"Lena with {} faces detected\".format(len(faces)))\n"
      ],
      "execution_count": null,
      "outputs": []
    },
    {
      "cell_type": "markdown",
      "metadata": {
        "id": "dpnKSNMj-sAb"
      },
      "source": [
        "## Cleanup"
      ]
    },
    {
      "cell_type": "code",
      "metadata": {
        "id": "_LxzeofO-vtK"
      },
      "source": [
        "!pwd\n",
        "!ls -la\n",
        "!rm lena.png\n",
        "!rm output.jpg\n",
        "!rm haarcascade_frontalface_default.xml\n",
        "!ls -la"
      ],
      "execution_count": null,
      "outputs": []
    }
  ]
}