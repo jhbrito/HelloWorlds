{
  "nbformat": 4,
  "nbformat_minor": 0,
  "metadata": {
    "colab": {
      "name": "HelloWorldMatplotlib.ipynb",
      "provenance": []
    },
    "kernelspec": {
      "name": "python3",
      "display_name": "Python 3"
    },
    "language_info": {
      "name": "python"
    }
  },
  "cells": [
    {
      "cell_type": "markdown",
      "metadata": {
        "id": "RFisebbSsLwv"
      },
      "source": [
        "# Hello World Matplotlib"
      ]
    },
    {
      "cell_type": "code",
      "metadata": {
        "id": "ZB4WZVKLsIhu"
      },
      "source": [
        "# Imports\n",
        "from mpl_toolkits.mplot3d import Axes3D\n",
        "import matplotlib.pyplot as plt\n",
        "from matplotlib import cm\n",
        "from matplotlib.ticker import LinearLocator, FormatStrFormatter\n",
        "import numpy as np\n"
      ],
      "execution_count": null,
      "outputs": []
    },
    {
      "cell_type": "markdown",
      "metadata": {
        "id": "LBo6CBt4siDk"
      },
      "source": [
        "## Gráfico simples"
      ]
    },
    {
      "cell_type": "code",
      "metadata": {
        "id": "7u_T2gwMsWTb"
      },
      "source": [
        "fig = plt.figure(1)\n",
        "# simple line graph\n",
        "ax = fig.add_subplot(1, 2, 1)\n",
        "x = np.arange(0, 5, 0.25)\n",
        "y = x**2\n",
        "ax.plot(x, y)\n",
        "ax.set_xlabel(\"x\")\n",
        "ax.set_ylabel(\"y\")\n",
        "ax.set_title(\"Line\")\n"
      ],
      "execution_count": null,
      "outputs": []
    },
    {
      "cell_type": "markdown",
      "metadata": {
        "id": "b1WfbV9TsnYX"
      },
      "source": [
        "## Gráfico 3D"
      ]
    },
    {
      "cell_type": "code",
      "metadata": {
        "id": "DHiFbC1CsgM2"
      },
      "source": [
        "# 3D surface graph\n",
        "fig = plt.figure(1)\n",
        "ax = fig.add_subplot(1, 2, 2, projection='3d')\n",
        "X = np.arange(-5, 5, 0.25)\n",
        "Y = np.arange(-5, 5, 0.25)\n",
        "X, Y = np.meshgrid(X, Y)\n",
        "R = np.sqrt(X**2 + Y**2)\n",
        "Z = np.sin(R)\n",
        "\n",
        "surf = ax.plot_surface(X, Y, Z, cmap=cm.coolwarm,\n",
        "                       linewidth=0, antialiased=False)\n",
        "\n",
        "ax.set_zlim(-1.01, 1.01)\n",
        "ax.zaxis.set_major_locator(LinearLocator(10))\n",
        "ax.zaxis.set_major_formatter(FormatStrFormatter('%.02f'))\n",
        "ax.set_xlabel(\"X\")\n",
        "ax.set_ylabel(\"Y\")\n",
        "ax.set_zlabel(\"Z\")\n",
        "ax.set_title(\"Surface\")\n",
        "\n",
        "# Add a color bar which maps values to colors.\n",
        "fig.colorbar(surf, shrink=0.5, aspect=5)\n",
        "\n",
        "plt.show() # This is necessary if you are running locally\n",
        "\n"
      ],
      "execution_count": null,
      "outputs": []
    }
  ]
}